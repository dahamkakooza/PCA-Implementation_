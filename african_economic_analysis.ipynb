# Import required libraries
import numpy as np
import pandas as pd
import matplotlib.pyplot as plt
import seaborn as sns
from sklearn.preprocessing import StandardScaler
from sklearn.datasets import fetch_openml
import requests
import io

# Import our custom PCA implementation
import sys
sys.path.append('.')
from pca_from_scratch import PCA, benchmark_pca

print("All libraries imported successfully!")
